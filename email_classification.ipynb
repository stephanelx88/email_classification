{
 "cells": [
  {
   "cell_type": "code",
   "execution_count": 3,
   "metadata": {},
   "outputs": [
    {
     "name": "stderr",
     "output_type": "stream",
     "text": [
      "[nltk_data] Downloading package stopwords to C:\\Users\\Mini\n",
      "[nltk_data]     Pc\\AppData\\Roaming\\nltk_data...\n",
      "[nltk_data]   Package stopwords is already up-to-date!\n",
      "[nltk_data] Downloading package punkt to C:\\Users\\Mini\n",
      "[nltk_data]     Pc\\AppData\\Roaming\\nltk_data...\n",
      "[nltk_data]   Package punkt is already up-to-date!\n"
     ]
    }
   ],
   "source": [
    "# Import libs\n",
    "\n",
    "import string\n",
    "import nltk\n",
    "nltk.download('stopwords')\n",
    "nltk.download('punkt')\n",
    "import pandas as pd\n",
    "import numpy as np\n",
    "import matplotlib.pyplot as plt\n",
    "\n",
    "from sklearn.model_selection import train_test_split\n",
    "from sklearn.naive_bayes import GaussianNB\n",
    "from sklearn.metrics import accuracy_score\n",
    "from sklearn.preprocessing import LabelEncoder\n"
   ]
  },
  {
   "cell_type": "code",
   "execution_count": 16,
   "metadata": {},
   "outputs": [
    {
     "data": {
      "text/plain": [
       "['Go until jurong point, crazy.. Available only in bugis n great world la e buffet... Cine there got amore wat...',\n",
       " 'Ok lar... Joking wif u oni...',\n",
       " \"Free entry in 2 a wkly comp to win FA Cup final tkts 21st May 2005. Text FA to 87121 to receive entry question(std txt rate)T&C's apply 08452810075over18's\",\n",
       " 'U dun say so early hor... U c already then say...',\n",
       " \"Nah I don't think he goes to usf, he lives around here though\"]"
      ]
     },
     "metadata": {},
     "output_type": "display_data"
    }
   ],
   "source": [
    "# Read dataset and split into features and labels\n",
    "DATASET_PATH = '2cls_spam_text_cls.csv'\n",
    "df = pd.read_csv(DATASET_PATH)\n",
    "\n",
    "messages = df['Message'].values.tolist()\n",
    "labels = df['Category'].values.tolist()\n",
    "\n",
    "display(messages[:5])\n"
   ]
  },
  {
   "cell_type": "code",
   "execution_count": 14,
   "metadata": {},
   "outputs": [],
   "source": [
    "# Functions to preprocess data\n",
    "\n",
    "def lowercase(text):\n",
    "    return text.lower()\n",
    "\n",
    "def remove_punctuations(text):\n",
    "    translator = str.maketrans('', '', string.punctuation)\n",
    "    return text.translate(translator)\n",
    "\n",
    "def tokenize(text):\n",
    "    return nltk.word_tokenize(text)\n",
    "\n",
    "def remove_stopwords(tokens):\n",
    "    stop_words = nltk.corpus.stopwords.words('english')\n",
    "    return [token for token in tokens if token not in stop_words]\n",
    "\n",
    "def stemming(tokens):\n",
    "    stemmer = nltk.PorterStemmer()\n",
    "    return [stemmer.stem(token) for token in tokens]\n",
    "\n",
    "\n",
    "def preprocess_text(text):\n",
    "    text = lowercase(text)\n",
    "    text = remove_punctuations(text)\n",
    "    \n",
    "    tokens = tokenize(text)\n",
    "    tokens = remove_stopwords(tokens)\n",
    "    tokens = stemming(tokens)\n",
    "\n",
    "    return tokens\n"
   ]
  },
  {
   "cell_type": "code",
   "execution_count": 17,
   "metadata": {},
   "outputs": [
    {
     "data": {
      "text/plain": [
       "[['go',\n",
       "  'jurong',\n",
       "  'point',\n",
       "  'crazi',\n",
       "  'avail',\n",
       "  'bugi',\n",
       "  'n',\n",
       "  'great',\n",
       "  'world',\n",
       "  'la',\n",
       "  'e',\n",
       "  'buffet',\n",
       "  'cine',\n",
       "  'got',\n",
       "  'amor',\n",
       "  'wat'],\n",
       " ['ok', 'lar', 'joke', 'wif', 'u', 'oni'],\n",
       " ['free',\n",
       "  'entri',\n",
       "  '2',\n",
       "  'wkli',\n",
       "  'comp',\n",
       "  'win',\n",
       "  'fa',\n",
       "  'cup',\n",
       "  'final',\n",
       "  'tkt',\n",
       "  '21st',\n",
       "  'may',\n",
       "  '2005',\n",
       "  'text',\n",
       "  'fa',\n",
       "  '87121',\n",
       "  'receiv',\n",
       "  'entri',\n",
       "  'questionstd',\n",
       "  'txt',\n",
       "  'ratetc',\n",
       "  'appli',\n",
       "  '08452810075over18'],\n",
       " ['u', 'dun', 'say', 'earli', 'hor', 'u', 'c', 'alreadi', 'say'],\n",
       " ['nah', 'dont', 'think', 'goe', 'usf', 'live', 'around', 'though']]"
      ]
     },
     "metadata": {},
     "output_type": "display_data"
    }
   ],
   "source": [
    "# Preprocess messages\n",
    "\n",
    "preprocessed_messages = [preprocess_text(message) for message in messages]\n",
    "\n",
    "display(preprocessed_messages[:5])"
   ]
  },
  {
   "cell_type": "code",
   "execution_count": 18,
   "metadata": {},
   "outputs": [
    {
     "data": {
      "text/plain": [
       "['go',\n",
       " 'jurong',\n",
       " 'point',\n",
       " 'crazi',\n",
       " 'avail',\n",
       " 'bugi',\n",
       " 'n',\n",
       " 'great',\n",
       " 'world',\n",
       " 'la']"
      ]
     },
     "execution_count": 18,
     "metadata": {},
     "output_type": "execute_result"
    }
   ],
   "source": [
    "# Create dictionary\n",
    "\n",
    "def create_dictionary(messages):\n",
    "    dictionary = []\n",
    "\n",
    "    for tokens in messages:\n",
    "        for token in tokens:\n",
    "            if token not in dictionary:\n",
    "                dictionary.append(token)\n",
    "\n",
    "    return dictionary\n",
    "\n",
    "dictionary = create_dictionary(preprocessed_messages)\n",
    "dictionary[:10]"
   ]
  },
  {
   "cell_type": "code",
   "execution_count": 20,
   "metadata": {},
   "outputs": [
    {
     "data": {
      "text/plain": [
       "array([[1., 1., 1., ..., 0., 0., 0.],\n",
       "       [0., 0., 0., ..., 0., 0., 0.],\n",
       "       [0., 0., 0., ..., 0., 0., 0.],\n",
       "       ...,\n",
       "       [0., 0., 0., ..., 0., 1., 1.],\n",
       "       [0., 0., 0., ..., 0., 0., 0.],\n",
       "       [0., 0., 0., ..., 0., 0., 0.]])"
      ]
     },
     "execution_count": 20,
     "metadata": {},
     "output_type": "execute_result"
    }
   ],
   "source": [
    "# Create a feature vector\n",
    "\n",
    "def create_features(tokens, dictionary):\n",
    "    features = np.zeros(len(dictionary))\n",
    "\n",
    "    for token in tokens:\n",
    "        if token in dictionary:\n",
    "            features[dictionary.index(token)] += 1\n",
    "\n",
    "    return features\n",
    "\n",
    "X = np.array([\n",
    "    create_features(tokens, dictionary) for tokens in preprocessed_messages\n",
    "])\n",
    "\n",
    "X"
   ]
  },
  {
   "cell_type": "code",
   "execution_count": 22,
   "metadata": {},
   "outputs": [
    {
     "name": "stdout",
     "output_type": "stream",
     "text": [
      "Classes: ['ham' 'spam']\n",
      "Encoded labels: [0 0 1 ... 0 0 0]\n"
     ]
    }
   ],
   "source": [
    "# Preprocessing labels\n",
    "label_encoder = LabelEncoder()\n",
    "y = label_encoder.fit_transform(labels)\n",
    "print(f\"Classes: {label_encoder.classes_}\")\n",
    "print(f\"Encoded labels: {y}\")"
   ]
  },
  {
   "cell_type": "code",
   "execution_count": 23,
   "metadata": {},
   "outputs": [],
   "source": [
    "# Split dataset into train/val/test = 7/2/1\n",
    "\n",
    "VAL_SIZE = 0.2\n",
    "TEST_SIZE = 0.125\n",
    "SEED = 0\n",
    "\n",
    "X_train, X_val, y_train, y_val = train_test_split(\n",
    "    X, y,\n",
    "    test_size=VAL_SIZE,\n",
    "    shuffle=True,\n",
    "    random_state=SEED\n",
    ")\n",
    "\n",
    "X_train, X_test, y_train, y_test = train_test_split(\n",
    "    X_train, y_train,\n",
    "    test_size=TEST_SIZE,\n",
    "    shuffle=True,\n",
    "    random_state=SEED\n",
    ")"
   ]
  },
  {
   "cell_type": "code",
   "execution_count": 27,
   "metadata": {},
   "outputs": [
    {
     "name": "stdout",
     "output_type": "stream",
     "text": [
      "CPU times: total: 0 ns\n",
      "Wall time: 0 ns\n",
      "Start training...\n",
      "Training completed!\n"
     ]
    }
   ],
   "source": [
    "# Start training\n",
    "%time\n",
    "model = GaussianNB()\n",
    "print('Start training...')\n",
    "model = model.fit(X_train, y_train)\n",
    "print('Training completed!')"
   ]
  },
  {
   "cell_type": "code",
   "execution_count": 28,
   "metadata": {},
   "outputs": [
    {
     "name": "stdout",
     "output_type": "stream",
     "text": [
      "Val accuracy: 0.8816143497757848\n",
      "Test accuracy: 0.8602150537634409\n"
     ]
    }
   ],
   "source": [
    "# Evaluate the model\n",
    "y_val_pred = model.predict(X_val)\n",
    "y_test_pred = model.predict(X_test)\n",
    "\n",
    "val_accuracy = accuracy_score(y_val, y_val_pred)\n",
    "test_accuracy = accuracy_score(y_test, y_test_pred)\n",
    "\n",
    "print(f\"Val accuracy: {val_accuracy}\")\n",
    "print(f\"Test accuracy: {test_accuracy}\")\n"
   ]
  },
  {
   "cell_type": "code",
   "execution_count": 29,
   "metadata": {},
   "outputs": [
    {
     "name": "stdout",
     "output_type": "stream",
     "text": [
      "Prediction: spam\n"
     ]
    }
   ],
   "source": [
    "# Predict any message\n",
    "\n",
    "def predict(text, model, dictionary):\n",
    "    processed_text = preprocess_text(text)\n",
    "    features = create_features(text, dictionary)\n",
    "    features = np.array(features).reshape(1, -1)\n",
    "    prediction = model.predict(features)\n",
    "    prediction_cls = label_encoder.inverse_transform(prediction)[0]\n",
    "\n",
    "    return prediction_cls\n",
    "\n",
    "test_input = \"Offer: discount 20%\"\n",
    "prediction_cls = predict(test_input, model, dictionary)\n",
    "print(f\"Prediction: {prediction_cls}\")"
   ]
  },
  {
   "cell_type": "code",
   "execution_count": 30,
   "metadata": {},
   "outputs": [
    {
     "name": "stdout",
     "output_type": "stream",
     "text": [
      "['Pho', 'popular', 'Vietnamese', 'noodle', 'soup']\n"
     ]
    }
   ],
   "source": [
    "# Question 8:\n",
    "\n",
    "input_text = \"Pho is a popular Vietnamese noodle soup\".split(' ')\n",
    "\n",
    "result = remove_stopwords(input_text)\n",
    "print(result)"
   ]
  },
  {
   "cell_type": "code",
   "execution_count": null,
   "metadata": {},
   "outputs": [],
   "source": []
  }
 ],
 "metadata": {
  "kernelspec": {
   "display_name": "Python 3",
   "language": "python",
   "name": "python3"
  },
  "language_info": {
   "codemirror_mode": {
    "name": "ipython",
    "version": 3
   },
   "file_extension": ".py",
   "mimetype": "text/x-python",
   "name": "python",
   "nbconvert_exporter": "python",
   "pygments_lexer": "ipython3",
   "version": "3.12.4"
  }
 },
 "nbformat": 4,
 "nbformat_minor": 2
}
